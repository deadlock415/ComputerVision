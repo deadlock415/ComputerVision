{
 "cells": [
  {
   "cell_type": "code",
   "execution_count": 1,
   "metadata": {},
   "outputs": [],
   "source": [
    "#create an Image Using OpenCV\n",
    "import cv2\n",
    "import numpy\n",
    "img=numpy.zeros((500,500))\n",
    "radius=100\n",
    "axes = (radius,radius)\n",
    "angle=90;\n",
    "startAngle=0;\n",
    "endAngle=180;\n",
    "center=(110,250)\n",
    "color=255\n",
    "cv2.line(img,(110,350),(360,150) ,  color,2)\n",
    "cv2.line(img,(110,150) ,(360,350) , color,2)\n",
    "cv2.ellipse(img, (110,250), axes, 90, startAngle, endAngle, color,2)\n",
    "cv2.ellipse(img, (360,250), axes, 270, startAngle, endAngle, color,2)\n",
    "cv2.imshow(\"Infinity\",img)\n",
    "cv2.waitKey()\n",
    "cv2.destroyAllWindows()\n"
   ]
  },
  {
   "cell_type": "code",
   "execution_count": null,
   "metadata": {},
   "outputs": [],
   "source": []
  },
  {
   "cell_type": "code",
   "execution_count": 2,
   "metadata": {},
   "outputs": [],
   "source": [
    "#Combine 2 image horizontally\n",
    "img2=cv2.imread(\"sun.jpg\")\n",
    "cv2.imshow(\"Image1\",img2)\n",
    "cv2.waitKey()\n",
    "cv2.destroyAllWindows()\n",
    "\n",
    "img1=cv2.imread(\"moon.jpg\")\n",
    "cv2.imshow(\"Image2\",img1)\n",
    "cv2.waitKey()\n",
    "cv2.destroyAllWindows()\n",
    "\n",
    "combine=numpy.hstack((img1,img2))\n",
    "cv2.imshow(\"Combine\",combine)\n",
    "cv2.waitKey()\n",
    "cv2.destroyAllWindows()"
   ]
  },
  {
   "cell_type": "code",
   "execution_count": null,
   "metadata": {},
   "outputs": [],
   "source": []
  },
  {
   "cell_type": "code",
   "execution_count": 3,
   "metadata": {},
   "outputs": [],
   "source": [
    "#Swipe Faces Using Face Detection and OpenCV\n",
    "import cv2\n",
    "import numpy"
   ]
  },
  {
   "cell_type": "code",
   "execution_count": 4,
   "metadata": {},
   "outputs": [],
   "source": [
    "#Image1 And Crop of Image1\n",
    "#cap=cv2.VideoCapture(0)\n",
    "#ret,photo1=cap.read()\n",
    "pic1=cv2.imread(\"woman1.jpg\")\n",
    "cv2.imshow(\"Mypic1\",pic1)\n",
    "cv2.waitKey()\n",
    "cv2.destroyAllWindows()\n",
    "model=cv2.CascadeClassifier('haarcascade_frontalface_default.xml')\n",
    "face1=model.detectMultiScale(pic1)\n",
    "x11=face1[0][0]\n",
    "y11=face1[0][1]\n",
    "x12=face1[0][2]+x11\n",
    "y12=face1[0][3]+y11\n",
    "crop1=pic1[y11:y12,x11:x12]\n",
    "cv2.imshow(\"Crop1\",crop1)\n",
    "cv2.waitKey()\n",
    "cv2.destroyAllWindows()"
   ]
  },
  {
   "cell_type": "code",
   "execution_count": 5,
   "metadata": {},
   "outputs": [],
   "source": [
    "#Image2 And Crop of Image2\n",
    "#cap=cv2.VideoCapture(0)\n",
    "#ret,photo2=cap.read()\n",
    "pic2=cv2.imread(\"woman2.jpg\")\n",
    "cv2.imshow(\"Mypic2\",pic2)\n",
    "cv2.waitKey()\n",
    "cv2.destroyAllWindows()\n",
    "model=cv2.CascadeClassifier('haarcascade_frontalface_default.xml')\n",
    "face2=model.detectMultiScale(pic2)\n",
    "x21=face2[0][0]\n",
    "y21=face2[0][1]\n",
    "x22=face2[0][2]+x21\n",
    "y22=face2[0][3]+y21\n",
    "crop2=pic2[y21:y22,x21:x22]\n",
    "cv2.imshow(\"Crop2\",crop2)\n",
    "cv2.waitKey()\n",
    "cv2.destroyAllWindows()"
   ]
  },
  {
   "cell_type": "code",
   "execution_count": 6,
   "metadata": {},
   "outputs": [],
   "source": [
    "#Swipe Face\n",
    "newpic=numpy.array(pic1)\n",
    "newpic[y11:y11+face2[0][3],x11:x11+face2[0][2]]=crop2\n",
    "cv2.imshow(\"swipe1\",newpic)\n",
    "cv2.waitKey()\n",
    "cv2.destroyAllWindows()"
   ]
  },
  {
   "cell_type": "code",
   "execution_count": 7,
   "metadata": {},
   "outputs": [],
   "source": [
    "#Swipe Face\n",
    "pic2[y21:y21+face1[0][3],x21:x21+face1[0][2]]=crop1\n",
    "cv2.imshow(\"Swipe2\",pic2)\n",
    "cv2.waitKey()\n",
    "cv2.destroyAllWindows()"
   ]
  },
  {
   "cell_type": "code",
   "execution_count": null,
   "metadata": {},
   "outputs": [],
   "source": []
  },
  {
   "cell_type": "code",
   "execution_count": null,
   "metadata": {},
   "outputs": [],
   "source": []
  },
  {
   "cell_type": "code",
   "execution_count": null,
   "metadata": {},
   "outputs": [],
   "source": []
  },
  {
   "cell_type": "code",
   "execution_count": null,
   "metadata": {},
   "outputs": [],
   "source": []
  },
  {
   "cell_type": "code",
   "execution_count": null,
   "metadata": {},
   "outputs": [],
   "source": []
  },
  {
   "cell_type": "code",
   "execution_count": null,
   "metadata": {},
   "outputs": [],
   "source": []
  },
  {
   "cell_type": "code",
   "execution_count": null,
   "metadata": {},
   "outputs": [],
   "source": []
  },
  {
   "cell_type": "code",
   "execution_count": null,
   "metadata": {},
   "outputs": [],
   "source": []
  },
  {
   "cell_type": "code",
   "execution_count": null,
   "metadata": {},
   "outputs": [],
   "source": []
  },
  {
   "cell_type": "code",
   "execution_count": null,
   "metadata": {},
   "outputs": [],
   "source": []
  },
  {
   "cell_type": "code",
   "execution_count": null,
   "metadata": {},
   "outputs": [],
   "source": []
  },
  {
   "cell_type": "code",
   "execution_count": null,
   "metadata": {},
   "outputs": [],
   "source": []
  },
  {
   "cell_type": "code",
   "execution_count": null,
   "metadata": {},
   "outputs": [],
   "source": []
  }
 ],
 "metadata": {
  "kernelspec": {
   "display_name": "Python 3",
   "language": "python",
   "name": "python3"
  },
  "language_info": {
   "codemirror_mode": {
    "name": "ipython",
    "version": 3
   },
   "file_extension": ".py",
   "mimetype": "text/x-python",
   "name": "python",
   "nbconvert_exporter": "python",
   "pygments_lexer": "ipython3",
   "version": "3.8.3"
  }
 },
 "nbformat": 4,
 "nbformat_minor": 4
}
